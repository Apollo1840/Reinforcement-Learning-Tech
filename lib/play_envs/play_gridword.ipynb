{
 "cells": [
  {
   "cell_type": "code",
   "execution_count": 1,
   "metadata": {},
   "outputs": [
    {
     "name": "stdout",
     "output_type": "stream",
     "text": [
      "/home/congyu/pyprojects/Reinforcement-Learning-Tech\n"
     ]
    }
   ],
   "source": [
    "import os, sys\n",
    "from os.path import dirname as dr\n",
    "from os.path import abspath as abp\n",
    "PROJECT_FOLDER = dr(dr(abp(os.getcwd())))\n",
    "sys.path.append(PROJECT_FOLDER)\n",
    "os.chdir(PROJECT_FOLDER)\n",
    "\n",
    "print(PROJECT_FOLDER)  # \"home/congyu/pyprojects/Reinforcement-Learning-Tech\""
   ]
  },
  {
   "cell_type": "code",
   "execution_count": 2,
   "metadata": {},
   "outputs": [],
   "source": [
    "import numpy as np"
   ]
  },
  {
   "cell_type": "code",
   "execution_count": 3,
   "metadata": {},
   "outputs": [],
   "source": [
    "from lib.envs.gridworld import GridworldEnv"
   ]
  },
  {
   "cell_type": "code",
   "execution_count": 4,
   "metadata": {},
   "outputs": [],
   "source": [
    "env = GridworldEnv()"
   ]
  },
  {
   "cell_type": "code",
   "execution_count": 5,
   "metadata": {},
   "outputs": [
    {
     "name": "stdout",
     "output_type": "stream",
     "text": [
      "16\n",
      "4\n"
     ]
    }
   ],
   "source": [
    "print(env.nS)\n",
    "print(env.nA)"
   ]
  },
  {
   "cell_type": "code",
   "execution_count": 10,
   "metadata": {},
   "outputs": [
    {
     "name": "stdout",
     "output_type": "stream",
     "text": [
      "[(1.0, 6, -1.0, False)]\n"
     ]
    }
   ],
   "source": [
    "s = 2   # id of State\n",
    "a = 2   # id of Action\n",
    "print(env.P[s][a])\n",
    "# return list of tuples:(prob, next_state, reward, done).\n",
    "# for a deteministric action, this list will only has one element\n",
    "# and prod will always be 1"
   ]
  },
  {
   "cell_type": "code",
   "execution_count": 7,
   "metadata": {},
   "outputs": [],
   "source": [
    "# initialize Values\n",
    "V = np.zeros(env.nS)"
   ]
  },
  {
   "cell_type": "code",
   "execution_count": 8,
   "metadata": {},
   "outputs": [
    {
     "name": "stdout",
     "output_type": "stream",
     "text": [
      "(16, 4)\n",
      "[0.25 0.25 0.25 0.25]\n"
     ]
    }
   ],
   "source": [
    "# initialize Policy\n",
    "random_policy = np.ones([env.nS, env.nA]) / env.nA\n",
    "print(random_policy.shape)\n",
    "print(random_policy[0])  # returns probability on each action"
   ]
  },
  {
   "cell_type": "code",
   "execution_count": null,
   "metadata": {},
   "outputs": [],
   "source": []
  }
 ],
 "metadata": {
  "kernelspec": {
   "display_name": "congyuml",
   "language": "python",
   "name": "congyuml"
  },
  "language_info": {
   "codemirror_mode": {
    "name": "ipython",
    "version": 3
   },
   "file_extension": ".py",
   "mimetype": "text/x-python",
   "name": "python",
   "nbconvert_exporter": "python",
   "pygments_lexer": "ipython3",
   "version": "3.6.8"
  }
 },
 "nbformat": 4,
 "nbformat_minor": 2
}
