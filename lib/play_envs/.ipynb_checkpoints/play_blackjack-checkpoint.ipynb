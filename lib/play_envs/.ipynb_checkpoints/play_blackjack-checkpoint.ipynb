{
 "cells": [
  {
   "cell_type": "code",
   "execution_count": 1,
   "metadata": {},
   "outputs": [
    {
     "name": "stdout",
     "output_type": "stream",
     "text": [
      "/home/congyu/pyprojects/Reinforcement-Learning-Tech\n"
     ]
    }
   ],
   "source": [
    "import os, sys\n",
    "from os.path import dirname as dr\n",
    "from os.path import abspath as abp\n",
    "PROJECT_FOLDER = dr(dr(abp(os.getcwd())))\n",
    "sys.path.append(PROJECT_FOLDER)\n",
    "os.chdir(PROJECT_FOLDER)\n",
    "\n",
    "print(PROJECT_FOLDER)  # \"home/congyu/pyprojects/Reinforcement-Learning-Tech\""
   ]
  },
  {
   "cell_type": "code",
   "execution_count": 2,
   "metadata": {},
   "outputs": [],
   "source": [
    "import numpy as np"
   ]
  },
  {
   "cell_type": "code",
   "execution_count": 3,
   "metadata": {},
   "outputs": [],
   "source": [
    "from lib.envs.blackjack import BlackjackEnv"
   ]
  },
  {
   "cell_type": "code",
   "execution_count": 4,
   "metadata": {},
   "outputs": [],
   "source": [
    "env = BlackjackEnv()"
   ]
  },
  {
   "cell_type": "code",
   "execution_count": 5,
   "metadata": {},
   "outputs": [
    {
     "name": "stdout",
     "output_type": "stream",
     "text": [
      "(17, 2, False)\n"
     ]
    }
   ],
   "source": [
    "# it is like gym:\n",
    "observation = env.reset()\n",
    "print(observation)   \n",
    "# (player_score, dealer_score, enable_ace(bool))"
   ]
  },
  {
   "cell_type": "code",
   "execution_count": 6,
   "metadata": {},
   "outputs": [],
   "source": [
    "action = 1  # 0 or 1, it means is_call (call for another card) \n",
    "# more formally:  0 means stick, 1 means hit"
   ]
  },
  {
   "cell_type": "code",
   "execution_count": 7,
   "metadata": {},
   "outputs": [],
   "source": [
    "observation, reward, done, _ = env.step(action)"
   ]
  }
 ],
 "metadata": {
  "kernelspec": {
   "display_name": "congyuml",
   "language": "python",
   "name": "congyuml"
  },
  "language_info": {
   "codemirror_mode": {
    "name": "ipython",
    "version": 3
   },
   "file_extension": ".py",
   "mimetype": "text/x-python",
   "name": "python",
   "nbconvert_exporter": "python",
   "pygments_lexer": "ipython3",
   "version": "3.6.8"
  }
 },
 "nbformat": 4,
 "nbformat_minor": 2
}
