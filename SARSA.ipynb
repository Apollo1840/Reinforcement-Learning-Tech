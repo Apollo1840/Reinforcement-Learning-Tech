{
 "cells": [
  {
   "cell_type": "code",
   "execution_count": 4,
   "id": "07a74d5f",
   "metadata": {},
   "outputs": [],
   "source": [
    "import numpy as np\n",
    "import random\n",
    "import time\n",
    "from gyms.frozen_lake import FrozenLakeEnvJP\n",
    "\n",
    "\n",
    "class SARSA:\n",
    "    \n",
    "    def __init__(self, env, learning_rate=0.1, discount_factor=0.99, exploration_rate=1.0, exploration_decay=0.99):\n",
    "        self.env = env\n",
    "        # Initialize the state-action matrix (Q-table) with zeros\n",
    "        self.state_action_matrix = np.zeros((env.observation_space.n, env.action_space.n))\n",
    "        self.learning_rate = learning_rate  # Alpha\n",
    "        self.discount_factor = discount_factor  # Gamma\n",
    "        self.exploration_rate = exploration_rate  # Epsilon (for exploration)\n",
    "        self.exploration_decay = exploration_decay  # Epsilon decay\n",
    "\n",
    "    def act(self, state):\n",
    "        # Epsilon-greedy policy: with probability exploration_rate, choose a random action\n",
    "        if random.uniform(0, 1) < self.exploration_rate:\n",
    "            return self.env.action_space.sample()  # Random action\n",
    "        else:\n",
    "            # Choose the action with the highest Q-value  for the current state\n",
    "            return self.predict(state)\n",
    "    \n",
    "    def predict(self, state):\n",
    "        return np.argmax(self.state_action_matrix[state, :])\n",
    "\n",
    "    def step(self, state, action, reward, next_state, done):\n",
    "        next_action = self.act(state)\n",
    "        td_target = reward + self.discount_factor * self.state_action_matrix[next_state, next_action]\n",
    "        td_delta = td_target - self.state_action_matrix[state, action]\n",
    "        self.state_action_matrix[state, action] += self.learning_rate * td_delta\n",
    "\n",
    "        # Decay exploration rate\n",
    "        if done:\n",
    "            self.exploration_rate *= self.exploration_decay\n",
    "        \n",
    "        return next_action\n",
    "\n"
   ]
  },
  {
   "cell_type": "code",
   "execution_count": 5,
   "id": "5b2605c5",
   "metadata": {},
   "outputs": [],
   "source": [
    "# Create the FrozenLake environment\n",
    "env = FrozenLakeEnvJP()"
   ]
  },
  {
   "cell_type": "markdown",
   "id": "00b037f0",
   "metadata": {},
   "source": [
    "# one episode"
   ]
  },
  {
   "cell_type": "code",
   "execution_count": 6,
   "id": "e02f16e3",
   "metadata": {},
   "outputs": [
    {
     "name": "stdout",
     "output_type": "stream",
     "text": [
      "Game Over!\n"
     ]
    }
   ],
   "source": [
    "# Initialize the QLearning strategy\n",
    "strategy = SARSA(env)\n",
    "\n",
    "# Reset the environment to the initial state\n",
    "state = env.reset()[0]\n",
    "\n",
    "# Render the initial state (not in the FrozenLakeV1 class but showing how to work with Q-Learning)\n",
    "env.render(step_number=0)\n",
    "action = strategy.act(state)  # Select action based on the current state\n",
    "\n",
    "# Play the game by following the Q-Learning strategy\n",
    "for step in range(100):\n",
    "    \n",
    "    next_state, reward, done, truncated, info = env.step(action)  # Apply the action to the environment\n",
    "    \n",
    "    # Render the updated environment after each action\n",
    "    env.render(step_number=step+1)\n",
    "\n",
    "    # Update the Q-Learning state-action matrix\n",
    "    next_action = strategy.step(state, action, reward, next_state, done)\n",
    "    \n",
    "    # Transition to the next state\n",
    "    state = next_state\n",
    "    action = next_action\n",
    "\n",
    "    if done or truncated:\n",
    "        print(\"Game Over!\")\n",
    "        time.sleep(1)\n",
    "        break\n",
    "\n",
    "# Close the environment\n",
    "env.close()\n"
   ]
  },
  {
   "cell_type": "markdown",
   "id": "2e20a393",
   "metadata": {},
   "source": [
    "# Multiple Episodes"
   ]
  },
  {
   "cell_type": "code",
   "execution_count": 8,
   "id": "7d8c9d4d",
   "metadata": {},
   "outputs": [],
   "source": [
    "# Initialize the QLearning strategy\n",
    "strategy = SARSA(env, exploration_rate=0.2, learning_rate=0.7)"
   ]
  },
  {
   "cell_type": "code",
   "execution_count": 9,
   "id": "b2fdbd13",
   "metadata": {},
   "outputs": [
    {
     "name": "stdout",
     "output_type": "stream",
     "text": [
      "Episode 30 done in 12 steps with total reward: 104\n"
     ]
    }
   ],
   "source": [
    "# Define number of episodes\n",
    "num_episodes = 30\n",
    "max_steps_per_episode = 100\n",
    "\n",
    "# Track the rewards per episode (optional)\n",
    "episode_rewards = []\n",
    "\n",
    "for episode in range(num_episodes):\n",
    "    # Reset the environment to the initial state at the start of each episode\n",
    "    state = env.reset()[0]  # Extract the actual state from the reset\n",
    "    action = strategy.act(state)  # Select action based on the current state\n",
    "    \n",
    "    total_reward = 0  # Initialize the reward tracker for this episode\n",
    "\n",
    "    # Play the game by following the Q-Learning strategy\n",
    "    for step in range(max_steps_per_episode):\n",
    "        next_state, reward, done, truncated, info = env.step(action)  # Apply the action to the environment\n",
    "\n",
    "        if done and reward == 1:\n",
    "            reward = 200\n",
    "        elif done:\n",
    "            reward = 0\n",
    "        else:\n",
    "            reward = next_state\n",
    "\n",
    "        # Update the Q-Learning state-action matrix\n",
    "        next_action = strategy.step(state, action, reward, next_state, done)\n",
    "        \n",
    "        # Render the updated environment after each action (optional for multiple episodes)\n",
    "        env.render2(strategy.state_action_matrix, step_number=step+1, episode_number=episode+1)\n",
    "        \n",
    "        # Transition to the next state\n",
    "        state = next_state\n",
    "        action = next_action\n",
    "        \n",
    "        total_reward += reward  # Accumulate the reward\n",
    "\n",
    "        if done:\n",
    "            print(f\"Episode {episode + 1} done in {step + 1} steps with total reward: {total_reward}\")\n",
    "            time.sleep(1)\n",
    "            break\n",
    "        if truncated:\n",
    "            print(f\"Episode {episode + 1} finished in {step + 1} steps with total reward: {total_reward}\")\n",
    "            time.sleep(1)\n",
    "            break\n",
    "\n",
    "    # Log the total reward for this episode\n",
    "    episode_rewards.append(total_reward)\n",
    "\n",
    "# Close the environment after all episodes\n",
    "env.close()\n",
    "\n"
   ]
  },
  {
   "cell_type": "code",
   "execution_count": 10,
   "id": "160bf4bc",
   "metadata": {},
   "outputs": [
    {
     "data": {
      "image/png": "[encoded data removed]",
      "text/plain": [
       "<Figure size 432x288 with 1 Axes>"
      ]
     },
     "metadata": {
      "needs_background": "light"
     },
     "output_type": "display_data"
    }
   ],
   "source": [
    "# Optional: Analyze performance over episodes\n",
    "import matplotlib.pyplot as plt\n",
    "\n",
    "# Plot the total reward over time to see the agent's improvement\n",
    "plt.plot(episode_rewards)\n",
    "plt.xlabel('Episode')\n",
    "plt.ylabel('Total Reward')\n",
    "plt.title('Total Reward per Episode in FrozenLake')\n",
    "plt.show()"
   ]
  },
  {
   "cell_type": "code",
   "execution_count": null,
   "id": "a8e59be0",
   "metadata": {},
   "outputs": [],
   "source": []
  },
  {
   "cell_type": "code",
   "execution_count": null,
   "id": "eff162e2",
   "metadata": {},
   "outputs": [],
   "source": []
  }
 ],
 "metadata": {
  "kernelspec": {
   "display_name": "congyuml",
   "language": "python",
   "name": "congyuml"
  },
  "language_info": {
   "codemirror_mode": {
    "name": "ipython",
    "version": 3
   },
   "file_extension": ".py",
   "mimetype": "text/x-python",
   "name": "python",
   "nbconvert_exporter": "python",
   "pygments_lexer": "ipython3",
   "version": "3.6.9"
  }
 },
 "nbformat": 4,
 "nbformat_minor": 5
}
