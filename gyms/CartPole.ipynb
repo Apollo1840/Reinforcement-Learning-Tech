{
 "cells": [
  {
   "cell_type": "code",
   "execution_count": 8,
   "id": "675c8187",
   "metadata": {},
   "outputs": [],
   "source": [
    "import gym\n",
    "import matplotlib.pyplot as plt\n",
    "import time\n",
    "from IPython.display import display, clear_output"
   ]
  },
  {
   "cell_type": "code",
   "execution_count": 11,
   "id": "456b7116",
   "metadata": {},
   "outputs": [],
   "source": [
    "env = gym.make('CartPole-v1', render_mode='human')"
   ]
  },
  {
   "cell_type": "code",
   "execution_count": 12,
   "id": "aeb5bb6b",
   "metadata": {},
   "outputs": [
    {
     "name": "stdout",
     "output_type": "stream",
     "text": [
      "Game Over!\n"
     ]
    },
    {
     "data": {
      "text/plain": [
       "<Figure size 432x288 with 0 Axes>"
      ]
     },
     "metadata": {},
     "output_type": "display_data"
    }
   ],
   "source": [
    "# Reset the environment to the initial state\n",
    "state = env.reset()\n",
    "\n",
    "# Set up the matplotlib figure\n",
    "plt.figure(figsize=(6, 4))\n",
    "\n",
    "# Run the environment for a set number of steps\n",
    "for step in range(200):  # Run for 200 timesteps\n",
    "    env.render()  # Render the environment\n",
    "    \n",
    "    # action = policy(state, ...)\n",
    "    action = env.action_space.sample()  # Take a random action\n",
    "    state, reward, done, truncated, info = env.step(action)  # Apply the action to the environment\n",
    "    \n",
    "    if done or truncated:\n",
    "        # Reset the environment when the episode ends\n",
    "        time.sleep(3)\n",
    "        print(\"Game Over!\")\n",
    "        break\n",
    "    \n",
    "    time.sleep(0.01)  # Add a small delay to control the speed of the animation\n",
    "\n",
    "# Close the environment when finished\n",
    "env.close()"
   ]
  },
  {
   "cell_type": "markdown",
   "id": "b4a3273a",
   "metadata": {},
   "source": [
    "# customize display"
   ]
  },
  {
   "cell_type": "code",
   "execution_count": 13,
   "id": "aef6fd71",
   "metadata": {},
   "outputs": [],
   "source": [
    "from cart_pole import CartPoleEnvJP"
   ]
  },
  {
   "cell_type": "code",
   "execution_count": 14,
   "id": "50cc3f6b",
   "metadata": {},
   "outputs": [],
   "source": [
    "env = CartPoleEnvJP()"
   ]
  },
  {
   "cell_type": "code",
   "execution_count": 15,
   "id": "8467242b",
   "metadata": {},
   "outputs": [
    {
     "name": "stdout",
     "output_type": "stream",
     "text": [
      "Game Over!\n"
     ]
    },
    {
     "data": {
      "image/png": "[encoded data removed]",
      "text/plain": [
       "<Figure size 432x288 with 1 Axes>"
      ]
     },
     "metadata": {
      "needs_background": "light"
     },
     "output_type": "display_data"
    }
   ],
   "source": [
    "# Reset the environment to the initial state\n",
    "state = env.reset()\n",
    "\n",
    "# Set up the matplotlib figure\n",
    "plt.figure(figsize=(6, 4))\n",
    "\n",
    "# Run the environment for a set number of steps\n",
    "for step in range(200):  # Run for 200 timesteps\n",
    "    env.render(step_number=step)  # Render the environment\n",
    "    \n",
    "    # action = policy(state, ...)\n",
    "    action = env.action_space.sample()  # Take a random action\n",
    "    state, reward, done, truncated, info = env.step(action)  # Apply the action to the environment\n",
    "    \n",
    "    if done or truncated:\n",
    "        # Reset the environment when the episode ends\n",
    "        time.sleep(3)\n",
    "        print(\"Game Over!\")\n",
    "        break\n",
    "    \n",
    "    time.sleep(0.01)  # Add a small delay to control the speed of the animation\n",
    "\n",
    "# Close the environment when finished\n",
    "env.close()"
   ]
  },
  {
   "cell_type": "code",
   "execution_count": null,
   "id": "d94ef293",
   "metadata": {},
   "outputs": [],
   "source": []
  }
 ],
 "metadata": {
  "kernelspec": {
   "display_name": "congyuml",
   "language": "python",
   "name": "congyuml"
  },
  "language_info": {
   "codemirror_mode": {
    "name": "ipython",
    "version": 3
   },
   "file_extension": ".py",
   "mimetype": "text/x-python",
   "name": "python",
   "nbconvert_exporter": "python",
   "pygments_lexer": "ipython3",
   "version": "3.6.9"
  }
 },
 "nbformat": 4,
 "nbformat_minor": 5
}
