{
 "cells": [
  {
   "cell_type": "code",
   "execution_count": 7,
   "id": "675c8187",
   "metadata": {},
   "outputs": [],
   "source": [
    "import matplotlib.pyplot as plt\n",
    "import time\n",
    "from cart_pole import CartPoleV1"
   ]
  },
  {
   "cell_type": "code",
   "execution_count": 8,
   "id": "b82b7801",
   "metadata": {},
   "outputs": [],
   "source": [
    "game = CartPoleV1()"
   ]
  },
  {
   "cell_type": "code",
   "execution_count": 12,
   "id": "3f986347",
   "metadata": {},
   "outputs": [
    {
     "name": "stdout",
     "output_type": "stream",
     "text": [
      "Game Over\n"
     ]
    },
    {
     "data": {
      "image/png": "[encoded data removed]",
      "text/plain": [
       "<Figure size 432x288 with 1 Axes>"
      ]
     },
     "metadata": {
      "needs_background": "light"
     },
     "output_type": "display_data"
    }
   ],
   "source": [
    "# Reset the environment to the initial state\n",
    "state = game.env.reset()\n",
    "\n",
    "# Set up the matplotlib figure\n",
    "plt.figure(figsize=(6, 4))\n",
    "\n",
    "# Run the environment for a set number of steps\n",
    "for step in range(200):  # Run for 200 timesteps\n",
    "    game.render(step)  # Render the environment\n",
    "    \n",
    "    # action = policy(state, ...)\n",
    "    action = game.env.action_space.sample()  # Take a random action\n",
    "    state, reward, done, truncated, info = game.env.step(action)  # Apply the action to the environment\n",
    "    \n",
    "    if done or truncated:\n",
    "        # Reset the environment when the episode ends\n",
    "        time.sleep(3)\n",
    "        print(\"Game Over\")\n",
    "        break\n",
    "    \n",
    "    time.sleep(0.01)  # Add a small delay to control the speed of the animation\n",
    "\n",
    "# Close the environment when finished\n",
    "game.env.close()"
   ]
  },
  {
   "cell_type": "code",
   "execution_count": null,
   "id": "8b3afac4",
   "metadata": {},
   "outputs": [],
   "source": []
  }
 ],
 "metadata": {
  "kernelspec": {
   "display_name": "congyuml",
   "language": "python",
   "name": "congyuml"
  },
  "language_info": {
   "codemirror_mode": {
    "name": "ipython",
    "version": 3
   },
   "file_extension": ".py",
   "mimetype": "text/x-python",
   "name": "python",
   "nbconvert_exporter": "python",
   "pygments_lexer": "ipython3",
   "version": "3.6.9"
  }
 },
 "nbformat": 4,
 "nbformat_minor": 5
}
