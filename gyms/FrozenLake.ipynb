{
 "cells": [
  {
   "cell_type": "code",
   "execution_count": 15,
   "id": "cb1913c7",
   "metadata": {},
   "outputs": [],
   "source": [
    "import gym\n",
    "import matplotlib.pyplot as plt\n",
    "import time\n",
    "from IPython.display import display, clear_output"
   ]
  },
  {
   "cell_type": "code",
   "execution_count": 16,
   "id": "c12eba50",
   "metadata": {},
   "outputs": [],
   "source": [
    "env = gym.make('FrozenLake-v1', is_slippery=True, render_mode=\"human\")"
   ]
  },
  {
   "cell_type": "code",
   "execution_count": 17,
   "id": "9746cdb3",
   "metadata": {},
   "outputs": [
    {
     "name": "stdout",
     "output_type": "stream",
     "text": [
      "Game Over!\n"
     ]
    }
   ],
   "source": [
    "# Reset the environment to the initial state\n",
    "state = env.reset()\n",
    "\n",
    "# Render the initial state\n",
    "env.render()\n",
    "\n",
    "# Play the game by taking random actions for a few steps\n",
    "for step in range(10):\n",
    "    action = env.action_space.sample()  # Take a random action\n",
    "    state, reward, done, truncated, info = env.step(action)  # Apply the action to the environment\n",
    "\n",
    "    # Render the updated environment after each action\n",
    "    env.render()\n",
    "\n",
    "    if done or truncated:\n",
    "        time.sleep(1)\n",
    "        print(\"Game Over!\")\n",
    "        break\n",
    "\n",
    "# Close the environment\n",
    "env.close()\n"
   ]
  },
  {
   "cell_type": "markdown",
   "id": "372cd25e",
   "metadata": {},
   "source": [
    "# customize display"
   ]
  },
  {
   "cell_type": "code",
   "execution_count": 18,
   "id": "1a3d3e7d",
   "metadata": {},
   "outputs": [],
   "source": [
    "from frozen_lake import FrozenLakeEnvJP"
   ]
  },
  {
   "cell_type": "markdown",
   "id": "5f4fbe7e",
   "metadata": {},
   "source": [
    "If the agent tries to move up:\n",
    "\n",
    "There is an 80% chance that it will move up (as intended).\n",
    "There is a 10% chance that it will move left.\n",
    "There is a 10% chance that it will move right.m"
   ]
  },
  {
   "cell_type": "code",
   "execution_count": 21,
   "id": "e18c7042",
   "metadata": {},
   "outputs": [],
   "source": [
    "env = FrozenLakeEnvJP()"
   ]
  },
  {
   "cell_type": "code",
   "execution_count": 24,
   "id": "f41a9de8",
   "metadata": {},
   "outputs": [
    {
     "name": "stdout",
     "output_type": "stream",
     "text": [
      "Game Over!\n"
     ]
    }
   ],
   "source": [
    "# Reset the environment to the initial state\n",
    "state = env.reset()\n",
    "\n",
    "# Render the initial state\n",
    "env.render(step_number=0)\n",
    "\n",
    "# Play the game by taking random actions for a few steps\n",
    "for step in range(50):\n",
    "    # Render the updated environment after each action\n",
    "    env.render(step_number=step+1)\n",
    "    \n",
    "    action = env.action_space.sample()  # Take a random action\n",
    "    state, reward, done, truncated, info = env.step(action)  # Apply the action to the environment\n",
    "    \n",
    "    time.sleep(3)\n",
    "\n",
    "    if done or truncated:\n",
    "        env.render(step_number=step+1)\n",
    "        time.sleep(1)\n",
    "        print(\"Game Over!\")\n",
    "        break\n",
    "\n",
    "# Close the environment\n",
    "env.close()\n"
   ]
  },
  {
   "cell_type": "code",
   "execution_count": null,
   "id": "d822e648",
   "metadata": {},
   "outputs": [],
   "source": []
  }
 ],
 "metadata": {
  "kernelspec": {
   "display_name": "congyuml",
   "language": "python",
   "name": "congyuml"
  },
  "language_info": {
   "codemirror_mode": {
    "name": "ipython",
    "version": 3
   },
   "file_extension": ".py",
   "mimetype": "text/x-python",
   "name": "python",
   "nbconvert_exporter": "python",
   "pygments_lexer": "ipython3",
   "version": "3.6.9"
  }
 },
 "nbformat": 4,
 "nbformat_minor": 5
}
