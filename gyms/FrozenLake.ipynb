{
 "cells": [
  {
   "cell_type": "code",
   "execution_count": 1,
   "id": "1a3d3e7d",
   "metadata": {},
   "outputs": [
    {
     "name": "stderr",
     "output_type": "stream",
     "text": [
      "/home/congyu/.virtualenvs/congyuml/lib/python3.6/site-packages/gym/core.py:27: UserWarning: \u001b[33mWARN: Gym minimally supports python 3.6 as the python foundation not longer supports the version, please update your version to 3.7+\u001b[0m\n",
      "  \"Gym minimally supports python 3.6 as the python foundation not longer supports the version, please update your version to 3.7+\"\n"
     ]
    }
   ],
   "source": [
    "import matplotlib.pyplot as plt\n",
    "import time\n",
    "from frozen_lake import FrozenLakeV1"
   ]
  },
  {
   "cell_type": "markdown",
   "id": "5f4fbe7e",
   "metadata": {},
   "source": [
    "If the agent tries to move up:\n",
    "\n",
    "There is an 80% chance that it will move up (as intended).\n",
    "There is a 10% chance that it will move left.\n",
    "There is a 10% chance that it will move right.m"
   ]
  },
  {
   "cell_type": "code",
   "execution_count": 2,
   "id": "e18c7042",
   "metadata": {},
   "outputs": [],
   "source": [
    "game = FrozenLakeV1()"
   ]
  },
  {
   "cell_type": "code",
   "execution_count": 3,
   "id": "f41a9de8",
   "metadata": {},
   "outputs": [
    {
     "name": "stdout",
     "output_type": "stream",
     "text": [
      "Game Over!\n"
     ]
    }
   ],
   "source": [
    "# Reset the environment to the initial state\n",
    "state = game.env.reset()\n",
    "\n",
    "# Render the initial state\n",
    "game.render(step_number=0)\n",
    "\n",
    "# Play the game by taking random actions for a few steps\n",
    "for step in range(10):\n",
    "    action = game.env.action_space.sample()  # Take a random action\n",
    "    state, reward, done, truncated, info = game.env.step(action)  # Apply the action to the environment\n",
    "\n",
    "    # Render the updated environment after each action\n",
    "    game.render(step_number=step + 1)\n",
    "\n",
    "    if done or truncated:\n",
    "        time.sleep(1)\n",
    "        print(\"Game Over!\")\n",
    "        break\n",
    "\n",
    "# Close the environment\n",
    "game.env.close()\n"
   ]
  },
  {
   "cell_type": "code",
   "execution_count": null,
   "id": "d702b808",
   "metadata": {},
   "outputs": [],
   "source": []
  },
  {
   "cell_type": "code",
   "execution_count": null,
   "id": "cb9418ac",
   "metadata": {},
   "outputs": [],
   "source": []
  }
 ],
 "metadata": {
  "kernelspec": {
   "display_name": "congyuml",
   "language": "python",
   "name": "congyuml"
  },
  "language_info": {
   "codemirror_mode": {
    "name": "ipython",
    "version": 3
   },
   "file_extension": ".py",
   "mimetype": "text/x-python",
   "name": "python",
   "nbconvert_exporter": "python",
   "pygments_lexer": "ipython3",
   "version": "3.6.9"
  }
 },
 "nbformat": 4,
 "nbformat_minor": 5
}
