{
 "cells": [
  {
   "cell_type": "code",
   "execution_count": 1,
   "id": "19083f24",
   "metadata": {},
   "outputs": [
    {
     "ename": "ModuleNotFoundError",
     "evalue": "No module named 'tensorflow'",
     "output_type": "error",
     "traceback": [
      "\u001b[0;31m---------------------------------------------------------------------------\u001b[0m",
      "\u001b[0;31mModuleNotFoundError\u001b[0m                       Traceback (most recent call last)",
      "Cell \u001b[0;32mIn[1], line 3\u001b[0m\n\u001b[1;32m      1\u001b[0m \u001b[38;5;28;01mimport\u001b[39;00m \u001b[38;5;21;01mnumpy\u001b[39;00m \u001b[38;5;28;01mas\u001b[39;00m \u001b[38;5;21;01mnp\u001b[39;00m\n\u001b[1;32m      2\u001b[0m \u001b[38;5;28;01mimport\u001b[39;00m \u001b[38;5;21;01mgym\u001b[39;00m\n\u001b[0;32m----> 3\u001b[0m \u001b[38;5;28;01mimport\u001b[39;00m \u001b[38;5;21;01mtensorflow\u001b[39;00m \u001b[38;5;28;01mas\u001b[39;00m \u001b[38;5;21;01mtf\u001b[39;00m\n\u001b[1;32m      4\u001b[0m \u001b[38;5;28;01mfrom\u001b[39;00m \u001b[38;5;21;01mtensorflow\u001b[39;00m\u001b[38;5;21;01m.\u001b[39;00m\u001b[38;5;21;01mkeras\u001b[39;00m\u001b[38;5;21;01m.\u001b[39;00m\u001b[38;5;21;01mmodels\u001b[39;00m \u001b[38;5;28;01mimport\u001b[39;00m Sequential\n\u001b[1;32m      5\u001b[0m \u001b[38;5;28;01mfrom\u001b[39;00m \u001b[38;5;21;01mtensorflow\u001b[39;00m\u001b[38;5;21;01m.\u001b[39;00m\u001b[38;5;21;01mkeras\u001b[39;00m\u001b[38;5;21;01m.\u001b[39;00m\u001b[38;5;21;01mlayers\u001b[39;00m \u001b[38;5;28;01mimport\u001b[39;00m Dense\n",
      "\u001b[0;31mModuleNotFoundError\u001b[0m: No module named 'tensorflow'"
     ]
    }
   ],
   "source": [
    "import numpy as np\n",
    "import gym\n",
    "import tensorflow as tf\n",
    "from tensorflow.keras.models import Sequential\n",
    "from tensorflow.keras.layers import Dense\n",
    "\n",
    "\n",
    "class PolicyGradient:\n",
    "    def __init__(self, env, learning_rate=0.01, gamma=0.99):\n",
    "        self.env = env\n",
    "        self.state_space = env.observation_space.n\n",
    "        self.action_space = env.action_space.n\n",
    "\n",
    "        self.learning_rate = learning_rate\n",
    "        self.gamma = gamma\n",
    "\n",
    "        # Build the policy network\n",
    "        self.model = Sequential([\n",
    "            Dense(24, input_dim=state_space, activation='relu'),\n",
    "            Dense(action_space, activation='softmax')\n",
    "        ])\n",
    "        self.optimizer = tf.keras.optimizers.Adam(learning_rate=self.learning_rate)\n",
    "        self.memory = []  # Store (state, action, reward)\n",
    "\n",
    "    def act(self, state):\n",
    "        \"\"\"Chooses an action based on the policy network.\"\"\"\n",
    "        state = state.reshape([1, self.state_space])  # Ensure correct input shape\n",
    "        probs = self.model(state).numpy()[0]\n",
    "        action = np.random.choice(self.action_space, p=probs)\n",
    "        return action\n",
    "\n",
    "    def predict(self, state):\n",
    "        state = state.reshape([1, self.state_space])  # Ensure correct input shape\n",
    "        probs = self.model(state).numpy()[0]\n",
    "        return np.argmax(probs)\n",
    "\n",
    "    def step(self, state, action, reward):\n",
    "        \"\"\"Stores the transition.\"\"\"\n",
    "        self.memory.append((state, action, reward))\n",
    "\n",
    "    def train(self):\n",
    "        \"\"\"Updates the policy network based on stored experiences.\"\"\"\n",
    "        states, actions, rewards = zip(*self.memory)\n",
    "        states = np.vstack(states)\n",
    "        actions = np.array(actions)\n",
    "        rewards = np.array(rewards)\n",
    "\n",
    "        # Compute discounted rewards\n",
    "        discounted_rewards = self._discount_rewards(rewards)\n",
    "\n",
    "        # Compute gradients and update policy\n",
    "        with tf.GradientTape() as tape:\n",
    "            action_probs = self.model(states)\n",
    "            selected_action_probs = tf.reduce_sum(\n",
    "                tf.one_hot(actions, self.action_space) * action_probs, axis=1\n",
    "            )\n",
    "            loss = -tf.reduce_mean(tf.math.log(selected_action_probs) * discounted_rewards)\n",
    "\n",
    "        grads = tape.gradient(loss, self.model.trainable_variables)\n",
    "        self.optimizer.apply_gradients(zip(grads, self.model.trainable_variables))\n",
    "        self.memory = []  # Clear memory after training\n",
    "\n",
    "    def _discount_rewards(self, rewards):\n",
    "        \"\"\"Computes discounted rewards.\"\"\"\n",
    "        discounted_rewards = np.zeros_like(rewards, dtype=np.float32)\n",
    "        cumulative = 0\n",
    "        for t in reversed(range(len(rewards))):\n",
    "            cumulative = cumulative * self.gamma + rewards[t]\n",
    "            discounted_rewards[t] = cumulative\n",
    "        return (discounted_rewards - np.mean(discounted_rewards)) / np.std(discounted_rewards)\n",
    "\n",
    "\n"
   ]
  },
  {
   "cell_type": "code",
   "execution_count": null,
   "id": "851d1c41",
   "metadata": {},
   "outputs": [],
   "source": []
  }
 ],
 "metadata": {
  "kernelspec": {
   "display_name": "congyutf",
   "language": "python",
   "name": "congyutf"
  },
  "language_info": {
   "codemirror_mode": {
    "name": "ipython",
    "version": 3
   },
   "file_extension": ".py",
   "mimetype": "text/x-python",
   "name": "python",
   "nbconvert_exporter": "python",
   "pygments_lexer": "ipython3",
   "version": "3.9.5"
  }
 },
 "nbformat": 4,
 "nbformat_minor": 5
}
